{
  "nbformat": 4,
  "nbformat_minor": 0,
  "metadata": {
    "colab": {
      "name": "RL.ipynb",
      "provenance": [],
      "collapsed_sections": [
        "jrI6q7RmWQam"
      ]
    },
    "kernelspec": {
      "name": "python3",
      "display_name": "Python 3"
    },
    "accelerator": "GPU"
  },
  "cells": [
    {
      "cell_type": "markdown",
      "metadata": {
        "id": "jrI6q7RmWQam",
        "colab_type": "text"
      },
      "source": [
        "<table align=\"center\">\n",
        "  <td align=\"center\"><a target=\"_blank\" href=\"http://introtodeeplearning.com\">\n",
        "        <img src=\"http://introtodeeplearning.com/images/colab/mit.png\" style=\"padding-bottom:5px;\" />\n",
        "      Visit MIT Deep Learning</a></td>\n",
        "  <td align=\"center\"><a target=\"_blank\" href=\"https://colab.research.google.com/github/aamini/introtodeeplearning/blob/master/lab3/RL.ipynb\">\n",
        "        <img src=\"http://introtodeeplearning.com/images/colab/colab.png?v2.0\"  style=\"padding-bottom:5px;\" />Run in Google Colab</a></td>\n",
        "  <td align=\"center\"><a target=\"_blank\" href=\"https://github.com/aamini/introtodeeplearning/blob/master/lab3/RL.ipynb\">\n",
        "        <img src=\"http://introtodeeplearning.com/images/colab/github.png\"  height=\"70px\" style=\"padding-bottom:5px;\"  />View Source on GitHub</a></td>\n",
        "</table>\n",
        "\n",
        "# Copyright Information"
      ]
    },
    {
      "cell_type": "code",
      "metadata": {
        "id": "wkd375upWYok",
        "colab_type": "code",
        "colab": {}
      },
      "source": [
        "# Copyright 2020 MIT 6.S191 Introduction to Deep Learning. All Rights Reserved.\n",
        "# \n",
        "# Licensed under the MIT License. You may not use this file except in compliance\n",
        "# with the License. Use and/or modification of this code outside of 6.S191 must\n",
        "# reference:\n",
        "#\n",
        "# © MIT 6.S191: Introduction to Deep Learning\n",
        "# http://introtodeeplearning.com\n",
        "#"
      ],
      "execution_count": 0,
      "outputs": []
    },
    {
      "cell_type": "markdown",
      "metadata": {
        "id": "WoXYKhfZMHiw",
        "colab_type": "text"
      },
      "source": [
        "# Laboratory 3: Reinforcement Learning\n",
        "\n",
        "Reinforcement learning (RL) is a subset of machine learning which poses learning problems as interactions between agents and environments. It often assumes agents have no prior knowledge of a world, so they must learn to navigate environments by optimizing a reward function. Within an environment, an agent can take certain actions and receive feedback, in the form of positive or negative rewards, with respect to their decision. As such, an agent's feedback loop is somewhat akin to the idea of \"trial and error\", or the manner in which a child might learn to distinguish between \"good\" and \"bad\" actions.\n",
        "\n",
        "In practical terms, our RL agent will interact with the environment by taking an action at each timestep, receiving a corresponding reward, and updating its state according to what it has \"learned\".  \n",
        "\n",
        "![alt text](https://www.kdnuggets.com/images/reinforcement-learning-fig1-700.jpg)\n",
        "\n",
        "While the ultimate goal of reinforcement learning is to teach agents to act in the real, physical world, games provide a convenient proving ground for developing RL algorithms and agents. Games have some properties that make them particularly well suited for RL: \n",
        "\n",
        "1.   In many cases, games have perfectly describable environments. For example, all rules of chess can be formally written and programmed into a chess game simulator;\n",
        "2.   Games are massively parallelizable. Since they do not require running in the real world, simultaneous environments can be run on large data clusters; \n",
        "3.   Simpler scenarios in games enable fast prototyping. This speeds up the development of algorithms that could eventually run in the real-world; and\n",
        "4.   ... Games are fun! \n",
        "\n",
        "In previous labs, we have explored both supervised (with LSTMs, CNNs) and unsupervised / semi-supervised (with VAEs) learning tasks. Reinforcement learning is fundamentally different, in that we are training a deep learning algorithm to govern the actions of our RL agent, that is trying, within its environment, to find the optimal way to achieve a goal. The goal of training an RL agent is to determine the best next step to take to earn the greatest final payoff or return. In this lab, we focus on building a reinforcement learning algorithm to master two different environments with varying complexity. \n",
        "\n",
        "1.   **Cartpole**:   Balance a pole, protruding from a cart, in an upright position by only moving the base left or right. Environment with a low-dimensional observation space.\n",
        "2.   [**Pong**](https://en.wikipedia.org/wiki/Pong): Beat your competitors (whether other AI or humans!) at the game of Pong. Environment with a high-dimensional observation space -- learning directly from raw pixels.\n",
        "\n",
        "Let's get started! First we'll import TensorFlow, the course package, and some dependencies.\n"
      ]
    },
    {
      "cell_type": "code",
      "metadata": {
        "id": "EvdePP-VyVWp",
        "colab_type": "code",
        "colab": {
          "base_uri": "https://localhost:8080/",
          "height": 330
        },
        "outputId": "0b4d1f09-4876-4b99-db89-7fd43c583dcd"
      },
      "source": [
        "!apt-get install -y xvfb python-opengl x11-utils > /dev/null 2>&1\n",
        "!pip install gym pyvirtualdisplay scikit-video > /dev/null 2>&1\n",
        "\n",
        "%tensorflow_version 2.x\n",
        "import tensorflow as tf\n",
        "\n",
        "import numpy as np\n",
        "import base64, io, time, gym\n",
        "import IPython, functools\n",
        "import matplotlib.pyplot as plt\n",
        "from tqdm import tqdm\n",
        "\n",
        "!pip install mitdeeplearning\n",
        "import mitdeeplearning as mdl"
      ],
      "execution_count": 1,
      "outputs": [
        {
          "output_type": "stream",
          "text": [
            "Collecting mitdeeplearning\n",
            "\u001b[?25l  Downloading https://files.pythonhosted.org/packages/8b/3b/b9174b68dc10832356d02a2d83a64b43a24f1762c172754407d22fc8f960/mitdeeplearning-0.1.2.tar.gz (2.1MB)\n",
            "\r\u001b[K     |▏                               | 10kB 19.9MB/s eta 0:00:01\r\u001b[K     |▎                               | 20kB 4.1MB/s eta 0:00:01\r\u001b[K     |▌                               | 30kB 5.3MB/s eta 0:00:01\r\u001b[K     |▋                               | 40kB 5.5MB/s eta 0:00:01\r\u001b[K     |▉                               | 51kB 4.7MB/s eta 0:00:01\r\u001b[K     |█                               | 61kB 5.2MB/s eta 0:00:01\r\u001b[K     |█                               | 71kB 5.7MB/s eta 0:00:01\r\u001b[K     |█▎                              | 81kB 6.2MB/s eta 0:00:01\r\u001b[K     |█▍                              | 92kB 6.5MB/s eta 0:00:01\r\u001b[K     |█▋                              | 102kB 6.3MB/s eta 0:00:01\r\u001b[K     |█▊                              | 112kB 6.3MB/s eta 0:00:01\r\u001b[K     |█▉                              | 122kB 6.3MB/s eta 0:00:01\r\u001b[K     |██                              | 133kB 6.3MB/s eta 0:00:01\r\u001b[K     |██▏                             | 143kB 6.3MB/s eta 0:00:01\r\u001b[K     |██▍                             | 153kB 6.3MB/s eta 0:00:01\r\u001b[K     |██▌                             | 163kB 6.3MB/s eta 0:00:01\r\u001b[K     |██▊                             | 174kB 6.3MB/s eta 0:00:01\r\u001b[K     |██▉                             | 184kB 6.3MB/s eta 0:00:01\r\u001b[K     |███                             | 194kB 6.3MB/s eta 0:00:01\r\u001b[K     |███▏                            | 204kB 6.3MB/s eta 0:00:01\r\u001b[K     |███▎                            | 215kB 6.3MB/s eta 0:00:01\r\u001b[K     |███▌                            | 225kB 6.3MB/s eta 0:00:01\r\u001b[K     |███▋                            | 235kB 6.3MB/s eta 0:00:01\r\u001b[K     |███▊                            | 245kB 6.3MB/s eta 0:00:01\r\u001b[K     |████                            | 256kB 6.3MB/s eta 0:00:01\r\u001b[K     |████                            | 266kB 6.3MB/s eta 0:00:01\r\u001b[K     |████▎                           | 276kB 6.3MB/s eta 0:00:01\r\u001b[K     |████▍                           | 286kB 6.3MB/s eta 0:00:01\r\u001b[K     |████▋                           | 296kB 6.3MB/s eta 0:00:01\r\u001b[K     |████▊                           | 307kB 6.3MB/s eta 0:00:01\r\u001b[K     |████▉                           | 317kB 6.3MB/s eta 0:00:01\r\u001b[K     |█████                           | 327kB 6.3MB/s eta 0:00:01\r\u001b[K     |█████▏                          | 337kB 6.3MB/s eta 0:00:01\r\u001b[K     |█████▍                          | 348kB 6.3MB/s eta 0:00:01\r\u001b[K     |█████▌                          | 358kB 6.3MB/s eta 0:00:01\r\u001b[K     |█████▋                          | 368kB 6.3MB/s eta 0:00:01\r\u001b[K     |█████▉                          | 378kB 6.3MB/s eta 0:00:01\r\u001b[K     |██████                          | 389kB 6.3MB/s eta 0:00:01\r\u001b[K     |██████▏                         | 399kB 6.3MB/s eta 0:00:01\r\u001b[K     |██████▎                         | 409kB 6.3MB/s eta 0:00:01\r\u001b[K     |██████▌                         | 419kB 6.3MB/s eta 0:00:01\r\u001b[K     |██████▋                         | 430kB 6.3MB/s eta 0:00:01\r\u001b[K     |██████▊                         | 440kB 6.3MB/s eta 0:00:01\r\u001b[K     |███████                         | 450kB 6.3MB/s eta 0:00:01\r\u001b[K     |███████                         | 460kB 6.3MB/s eta 0:00:01\r\u001b[K     |███████▎                        | 471kB 6.3MB/s eta 0:00:01\r\u001b[K     |███████▍                        | 481kB 6.3MB/s eta 0:00:01\r\u001b[K     |███████▌                        | 491kB 6.3MB/s eta 0:00:01\r\u001b[K     |███████▊                        | 501kB 6.3MB/s eta 0:00:01\r\u001b[K     |███████▉                        | 512kB 6.3MB/s eta 0:00:01\r\u001b[K     |████████                        | 522kB 6.3MB/s eta 0:00:01\r\u001b[K     |████████▏                       | 532kB 6.3MB/s eta 0:00:01\r\u001b[K     |████████▍                       | 542kB 6.3MB/s eta 0:00:01\r\u001b[K     |████████▌                       | 552kB 6.3MB/s eta 0:00:01\r\u001b[K     |████████▋                       | 563kB 6.3MB/s eta 0:00:01\r\u001b[K     |████████▉                       | 573kB 6.3MB/s eta 0:00:01\r\u001b[K     |█████████                       | 583kB 6.3MB/s eta 0:00:01\r\u001b[K     |█████████▏                      | 593kB 6.3MB/s eta 0:00:01\r\u001b[K     |█████████▎                      | 604kB 6.3MB/s eta 0:00:01\r\u001b[K     |█████████▍                      | 614kB 6.3MB/s eta 0:00:01\r\u001b[K     |█████████▋                      | 624kB 6.3MB/s eta 0:00:01\r\u001b[K     |█████████▊                      | 634kB 6.3MB/s eta 0:00:01\r\u001b[K     |██████████                      | 645kB 6.3MB/s eta 0:00:01\r\u001b[K     |██████████                      | 655kB 6.3MB/s eta 0:00:01\r\u001b[K     |██████████▎                     | 665kB 6.3MB/s eta 0:00:01\r\u001b[K     |██████████▍                     | 675kB 6.3MB/s eta 0:00:01\r\u001b[K     |██████████▌                     | 686kB 6.3MB/s eta 0:00:01\r\u001b[K     |██████████▊                     | 696kB 6.3MB/s eta 0:00:01\r\u001b[K     |██████████▉                     | 706kB 6.3MB/s eta 0:00:01\r\u001b[K     |███████████                     | 716kB 6.3MB/s eta 0:00:01\r\u001b[K     |███████████▏                    | 727kB 6.3MB/s eta 0:00:01\r\u001b[K     |███████████▎                    | 737kB 6.3MB/s eta 0:00:01\r\u001b[K     |███████████▌                    | 747kB 6.3MB/s eta 0:00:01\r\u001b[K     |███████████▋                    | 757kB 6.3MB/s eta 0:00:01\r\u001b[K     |███████████▉                    | 768kB 6.3MB/s eta 0:00:01\r\u001b[K     |████████████                    | 778kB 6.3MB/s eta 0:00:01\r\u001b[K     |████████████                    | 788kB 6.3MB/s eta 0:00:01\r\u001b[K     |████████████▎                   | 798kB 6.3MB/s eta 0:00:01\r\u001b[K     |████████████▍                   | 808kB 6.3MB/s eta 0:00:01\r\u001b[K     |████████████▋                   | 819kB 6.3MB/s eta 0:00:01\r\u001b[K     |████████████▊                   | 829kB 6.3MB/s eta 0:00:01\r\u001b[K     |█████████████                   | 839kB 6.3MB/s eta 0:00:01\r\u001b[K     |█████████████                   | 849kB 6.3MB/s eta 0:00:01\r\u001b[K     |█████████████▏                  | 860kB 6.3MB/s eta 0:00:01\r\u001b[K     |█████████████▍                  | 870kB 6.3MB/s eta 0:00:01\r\u001b[K     |█████████████▌                  | 880kB 6.3MB/s eta 0:00:01\r\u001b[K     |█████████████▊                  | 890kB 6.3MB/s eta 0:00:01\r\u001b[K     |█████████████▉                  | 901kB 6.3MB/s eta 0:00:01\r\u001b[K     |██████████████                  | 911kB 6.3MB/s eta 0:00:01\r\u001b[K     |██████████████▏                 | 921kB 6.3MB/s eta 0:00:01\r\u001b[K     |██████████████▎                 | 931kB 6.3MB/s eta 0:00:01\r\u001b[K     |██████████████▌                 | 942kB 6.3MB/s eta 0:00:01\r\u001b[K     |██████████████▋                 | 952kB 6.3MB/s eta 0:00:01\r\u001b[K     |██████████████▉                 | 962kB 6.3MB/s eta 0:00:01\r\u001b[K     |███████████████                 | 972kB 6.3MB/s eta 0:00:01\r\u001b[K     |███████████████                 | 983kB 6.3MB/s eta 0:00:01\r\u001b[K     |███████████████▎                | 993kB 6.3MB/s eta 0:00:01\r\u001b[K     |███████████████▍                | 1.0MB 6.3MB/s eta 0:00:01\r\u001b[K     |███████████████▋                | 1.0MB 6.3MB/s eta 0:00:01\r\u001b[K     |███████████████▊                | 1.0MB 6.3MB/s eta 0:00:01\r\u001b[K     |███████████████▉                | 1.0MB 6.3MB/s eta 0:00:01\r\u001b[K     |████████████████                | 1.0MB 6.3MB/s eta 0:00:01\r\u001b[K     |████████████████▏               | 1.1MB 6.3MB/s eta 0:00:01\r\u001b[K     |████████████████▍               | 1.1MB 6.3MB/s eta 0:00:01\r\u001b[K     |████████████████▌               | 1.1MB 6.3MB/s eta 0:00:01\r\u001b[K     |████████████████▊               | 1.1MB 6.3MB/s eta 0:00:01\r\u001b[K     |████████████████▉               | 1.1MB 6.3MB/s eta 0:00:01\r\u001b[K     |█████████████████               | 1.1MB 6.3MB/s eta 0:00:01\r\u001b[K     |█████████████████▏              | 1.1MB 6.3MB/s eta 0:00:01\r\u001b[K     |█████████████████▎              | 1.1MB 6.3MB/s eta 0:00:01\r\u001b[K     |█████████████████▌              | 1.1MB 6.3MB/s eta 0:00:01\r\u001b[K     |█████████████████▋              | 1.1MB 6.3MB/s eta 0:00:01\r\u001b[K     |█████████████████▊              | 1.2MB 6.3MB/s eta 0:00:01\r\u001b[K     |██████████████████              | 1.2MB 6.3MB/s eta 0:00:01\r\u001b[K     |██████████████████              | 1.2MB 6.3MB/s eta 0:00:01\r\u001b[K     |██████████████████▎             | 1.2MB 6.3MB/s eta 0:00:01\r\u001b[K     |██████████████████▍             | 1.2MB 6.3MB/s eta 0:00:01\r\u001b[K     |██████████████████▋             | 1.2MB 6.3MB/s eta 0:00:01\r\u001b[K     |██████████████████▊             | 1.2MB 6.3MB/s eta 0:00:01\r\u001b[K     |██████████████████▉             | 1.2MB 6.3MB/s eta 0:00:01\r\u001b[K     |███████████████████             | 1.2MB 6.3MB/s eta 0:00:01\r\u001b[K     |███████████████████▏            | 1.2MB 6.3MB/s eta 0:00:01\r\u001b[K     |███████████████████▍            | 1.3MB 6.3MB/s eta 0:00:01\r\u001b[K     |███████████████████▌            | 1.3MB 6.3MB/s eta 0:00:01\r\u001b[K     |███████████████████▋            | 1.3MB 6.3MB/s eta 0:00:01\r\u001b[K     |███████████████████▉            | 1.3MB 6.3MB/s eta 0:00:01\r\u001b[K     |████████████████████            | 1.3MB 6.3MB/s eta 0:00:01\r\u001b[K     |████████████████████▏           | 1.3MB 6.3MB/s eta 0:00:01\r\u001b[K     |████████████████████▎           | 1.3MB 6.3MB/s eta 0:00:01\r\u001b[K     |████████████████████▌           | 1.3MB 6.3MB/s eta 0:00:01\r\u001b[K     |████████████████████▋           | 1.3MB 6.3MB/s eta 0:00:01\r\u001b[K     |████████████████████▊           | 1.4MB 6.3MB/s eta 0:00:01\r\u001b[K     |█████████████████████           | 1.4MB 6.3MB/s eta 0:00:01\r\u001b[K     |█████████████████████           | 1.4MB 6.3MB/s eta 0:00:01\r\u001b[K     |█████████████████████▎          | 1.4MB 6.3MB/s eta 0:00:01\r\u001b[K     |█████████████████████▍          | 1.4MB 6.3MB/s eta 0:00:01\r\u001b[K     |█████████████████████▌          | 1.4MB 6.3MB/s eta 0:00:01\r\u001b[K     |█████████████████████▊          | 1.4MB 6.3MB/s eta 0:00:01\r\u001b[K     |█████████████████████▉          | 1.4MB 6.3MB/s eta 0:00:01\r\u001b[K     |██████████████████████          | 1.4MB 6.3MB/s eta 0:00:01\r\u001b[K     |██████████████████████▏         | 1.4MB 6.3MB/s eta 0:00:01\r\u001b[K     |██████████████████████▍         | 1.5MB 6.3MB/s eta 0:00:01\r\u001b[K     |██████████████████████▌         | 1.5MB 6.3MB/s eta 0:00:01\r\u001b[K     |██████████████████████▋         | 1.5MB 6.3MB/s eta 0:00:01\r\u001b[K     |██████████████████████▉         | 1.5MB 6.3MB/s eta 0:00:01\r\u001b[K     |███████████████████████         | 1.5MB 6.3MB/s eta 0:00:01\r\u001b[K     |███████████████████████▏        | 1.5MB 6.3MB/s eta 0:00:01\r\u001b[K     |███████████████████████▎        | 1.5MB 6.3MB/s eta 0:00:01\r\u001b[K     |███████████████████████▍        | 1.5MB 6.3MB/s eta 0:00:01\r\u001b[K     |███████████████████████▋        | 1.5MB 6.3MB/s eta 0:00:01\r\u001b[K     |███████████████████████▊        | 1.5MB 6.3MB/s eta 0:00:01\r\u001b[K     |████████████████████████        | 1.6MB 6.3MB/s eta 0:00:01\r\u001b[K     |████████████████████████        | 1.6MB 6.3MB/s eta 0:00:01\r\u001b[K     |████████████████████████▏       | 1.6MB 6.3MB/s eta 0:00:01\r\u001b[K     |████████████████████████▍       | 1.6MB 6.3MB/s eta 0:00:01\r\u001b[K     |████████████████████████▌       | 1.6MB 6.3MB/s eta 0:00:01\r\u001b[K     |████████████████████████▊       | 1.6MB 6.3MB/s eta 0:00:01\r\u001b[K     |████████████████████████▉       | 1.6MB 6.3MB/s eta 0:00:01\r\u001b[K     |█████████████████████████       | 1.6MB 6.3MB/s eta 0:00:01\r\u001b[K     |█████████████████████████▏      | 1.6MB 6.3MB/s eta 0:00:01\r\u001b[K     |█████████████████████████▎      | 1.6MB 6.3MB/s eta 0:00:01\r\u001b[K     |█████████████████████████▌      | 1.7MB 6.3MB/s eta 0:00:01\r\u001b[K     |█████████████████████████▋      | 1.7MB 6.3MB/s eta 0:00:01\r\u001b[K     |█████████████████████████▉      | 1.7MB 6.3MB/s eta 0:00:01\r\u001b[K     |██████████████████████████      | 1.7MB 6.3MB/s eta 0:00:01\r\u001b[K     |██████████████████████████      | 1.7MB 6.3MB/s eta 0:00:01\r\u001b[K     |██████████████████████████▎     | 1.7MB 6.3MB/s eta 0:00:01\r\u001b[K     |██████████████████████████▍     | 1.7MB 6.3MB/s eta 0:00:01\r\u001b[K     |██████████████████████████▋     | 1.7MB 6.3MB/s eta 0:00:01\r\u001b[K     |██████████████████████████▊     | 1.7MB 6.3MB/s eta 0:00:01\r\u001b[K     |███████████████████████████     | 1.8MB 6.3MB/s eta 0:00:01\r\u001b[K     |███████████████████████████     | 1.8MB 6.3MB/s eta 0:00:01\r\u001b[K     |███████████████████████████▏    | 1.8MB 6.3MB/s eta 0:00:01\r\u001b[K     |███████████████████████████▍    | 1.8MB 6.3MB/s eta 0:00:01\r\u001b[K     |███████████████████████████▌    | 1.8MB 6.3MB/s eta 0:00:01\r\u001b[K     |███████████████████████████▊    | 1.8MB 6.3MB/s eta 0:00:01\r\u001b[K     |███████████████████████████▉    | 1.8MB 6.3MB/s eta 0:00:01\r\u001b[K     |████████████████████████████    | 1.8MB 6.3MB/s eta 0:00:01\r\u001b[K     |████████████████████████████▏   | 1.8MB 6.3MB/s eta 0:00:01\r\u001b[K     |████████████████████████████▎   | 1.8MB 6.3MB/s eta 0:00:01\r\u001b[K     |████████████████████████████▌   | 1.9MB 6.3MB/s eta 0:00:01\r\u001b[K     |████████████████████████████▋   | 1.9MB 6.3MB/s eta 0:00:01\r\u001b[K     |████████████████████████████▉   | 1.9MB 6.3MB/s eta 0:00:01\r\u001b[K     |█████████████████████████████   | 1.9MB 6.3MB/s eta 0:00:01\r\u001b[K     |█████████████████████████████   | 1.9MB 6.3MB/s eta 0:00:01\r\u001b[K     |█████████████████████████████▎  | 1.9MB 6.3MB/s eta 0:00:01\r\u001b[K     |█████████████████████████████▍  | 1.9MB 6.3MB/s eta 0:00:01\r\u001b[K     |█████████████████████████████▋  | 1.9MB 6.3MB/s eta 0:00:01\r\u001b[K     |█████████████████████████████▊  | 1.9MB 6.3MB/s eta 0:00:01\r\u001b[K     |█████████████████████████████▉  | 1.9MB 6.3MB/s eta 0:00:01\r\u001b[K     |██████████████████████████████  | 2.0MB 6.3MB/s eta 0:00:01\r\u001b[K     |██████████████████████████████▏ | 2.0MB 6.3MB/s eta 0:00:01\r\u001b[K     |██████████████████████████████▍ | 2.0MB 6.3MB/s eta 0:00:01\r\u001b[K     |██████████████████████████████▌ | 2.0MB 6.3MB/s eta 0:00:01\r\u001b[K     |██████████████████████████████▊ | 2.0MB 6.3MB/s eta 0:00:01\r\u001b[K     |██████████████████████████████▉ | 2.0MB 6.3MB/s eta 0:00:01\r\u001b[K     |███████████████████████████████ | 2.0MB 6.3MB/s eta 0:00:01\r\u001b[K     |███████████████████████████████▏| 2.0MB 6.3MB/s eta 0:00:01\r\u001b[K     |███████████████████████████████▎| 2.0MB 6.3MB/s eta 0:00:01\r\u001b[K     |███████████████████████████████▌| 2.0MB 6.3MB/s eta 0:00:01\r\u001b[K     |███████████████████████████████▋| 2.1MB 6.3MB/s eta 0:00:01\r\u001b[K     |███████████████████████████████▊| 2.1MB 6.3MB/s eta 0:00:01\r\u001b[K     |████████████████████████████████| 2.1MB 6.3MB/s eta 0:00:01\r\u001b[K     |████████████████████████████████| 2.1MB 6.3MB/s \n",
            "\u001b[?25hRequirement already satisfied: numpy in /usr/local/lib/python3.6/dist-packages (from mitdeeplearning) (1.18.4)\n",
            "Requirement already satisfied: regex in /usr/local/lib/python3.6/dist-packages (from mitdeeplearning) (2019.12.20)\n",
            "Requirement already satisfied: tqdm in /usr/local/lib/python3.6/dist-packages (from mitdeeplearning) (4.41.1)\n",
            "Requirement already satisfied: gym in /usr/local/lib/python3.6/dist-packages (from mitdeeplearning) (0.17.2)\n",
            "Requirement already satisfied: pyglet<=1.5.0,>=1.4.0 in /usr/local/lib/python3.6/dist-packages (from gym->mitdeeplearning) (1.5.0)\n",
            "Requirement already satisfied: cloudpickle<1.4.0,>=1.2.0 in /usr/local/lib/python3.6/dist-packages (from gym->mitdeeplearning) (1.3.0)\n",
            "Requirement already satisfied: scipy in /usr/local/lib/python3.6/dist-packages (from gym->mitdeeplearning) (1.4.1)\n",
            "Requirement already satisfied: future in /usr/local/lib/python3.6/dist-packages (from pyglet<=1.5.0,>=1.4.0->gym->mitdeeplearning) (0.16.0)\n",
            "Building wheels for collected packages: mitdeeplearning\n",
            "  Building wheel for mitdeeplearning (setup.py) ... \u001b[?25l\u001b[?25hdone\n",
            "  Created wheel for mitdeeplearning: filename=mitdeeplearning-0.1.2-cp36-none-any.whl size=2114586 sha256=461dc24a5587048d4aed6b8425ab725950a248bae3b7e98b1d879bc16074fe6b\n",
            "  Stored in directory: /root/.cache/pip/wheels/27/e1/73/5f01c787621d8a3c857f59876c79e304b9b64db9ff5bd61b74\n",
            "Successfully built mitdeeplearning\n",
            "Installing collected packages: mitdeeplearning\n",
            "Successfully installed mitdeeplearning-0.1.2\n"
          ],
          "name": "stdout"
        }
      ]
    },
    {
      "cell_type": "markdown",
      "metadata": {
        "id": "zmrHSiXKTXTY",
        "colab_type": "text"
      },
      "source": [
        "Before we dive in, let's take a step back and outline our approach, which is generally applicable to reinforcement learning problems in general:\n",
        "\n",
        "1. **Initialize our environment and our agent**: here we will describe the different observations and actions the agent can make in the environemnt.\n",
        "2. **Define our agent's memory**: this will enable the agent to remember its past actions, observations, and rewards.\n",
        "3. **Define a reward function**: describes the reward associated with an action or sequence of actions.\n",
        "4. **Define the learning algorithm**: this will be used to reinforce the agent's good behaviors and discourage bad behaviors.\n"
      ]
    },
    {
      "cell_type": "markdown",
      "metadata": {
        "id": "UT7YL8KBJIIc",
        "colab_type": "text"
      },
      "source": [
        "# Part 1: Cartpole\n",
        "\n",
        "## 3.1 Define the Cartpole environment and agent\n",
        "\n",
        "### Environment \n",
        "\n",
        "In order to model the environment for both the Cartpole and Pong tasks, we'll be using a toolkit developed by OpenAI called [OpenAI Gym](https://gym.openai.com/). It provides several pre-defined environments for training and testing reinforcement learning agents, including those for classic physics control tasks, Atari video games, and robotic simulations. To access the Cartpole environment, we can use `env = gym.make(\"CartPole-v0\")`, which we gained access to when we imported the `gym` package. We can instantiate different [environments](https://gym.openai.com/envs/#classic_control) by passing the enivronment name to the `make` function.\n",
        "\n",
        "One issue we might experience when developing RL algorithms is that many aspects of the learning process are inherently random: initializing game states, changes in the environment, and the agent's actions. As such, it can be helpful to set a initial \"seed\" for the environment to ensure some level of reproducibility. Much like you might use `numpy.random.seed`, we can call the comparable function in gym, `seed`, with our defined environment to ensure the environment's random variables are initialized the same each time."
      ]
    },
    {
      "cell_type": "code",
      "metadata": {
        "id": "quv9SC0iIYFm",
        "colab_type": "code",
        "colab": {
          "base_uri": "https://localhost:8080/",
          "height": 34
        },
        "outputId": "13f229bb-a566-417f-bbce-8ee97dcad1f4"
      },
      "source": [
        "### Instantiate the Cartpole environment ###\n",
        "\n",
        "env = gym.make(\"CartPole-v0\")\n",
        "env.seed(1)"
      ],
      "execution_count": 2,
      "outputs": [
        {
          "output_type": "execute_result",
          "data": {
            "text/plain": [
              "[1]"
            ]
          },
          "metadata": {
            "tags": []
          },
          "execution_count": 2
        }
      ]
    },
    {
      "cell_type": "markdown",
      "metadata": {
        "id": "mhEITUcKK455",
        "colab_type": "text"
      },
      "source": [
        "In Cartpole, a pole is attached by an un-actuated joint to a cart, which moves along a frictionless track. The pole starts upright, and the goal is to prevent it from falling over. The system is controlled by applying a force of +1 or -1 to the cart. A reward of +1 is provided for every timestep that the pole remains upright. The episode ends when the pole is more than 15 degrees from vertical, or the cart moves more than 2.4 units from the center of the track. A visual summary of the cartpole environment is depicted below:\n",
        "\n",
        "<img width=\"400px\" src=\"https://danielpiedrahita.files.wordpress.com/2017/02/cart-pole.png\"></img>\n",
        "\n",
        "Given this setup for the environment and the objective of the game, we can think about: 1) what observations help define the environment's state; 2) what actions the agent can take. \n",
        "\n",
        "First, let's consider the observation space. In this Cartpole environment our observations are:\n",
        "\n",
        "1. Cart position\n",
        "2. Cart velocity\n",
        "3. Pole angle\n",
        "4. Pole rotation rate\n",
        "\n",
        "We can confirm the size of the space by querying the environment's observation space:\n"
      ]
    },
    {
      "cell_type": "code",
      "metadata": {
        "id": "UVJaEcbdIX82",
        "colab_type": "code",
        "colab": {
          "base_uri": "https://localhost:8080/",
          "height": 34
        },
        "outputId": "ad64b9fc-68f4-4a64-8241-5d53368e3447"
      },
      "source": [
        "n_observations = env.observation_space\n",
        "print(\"Environment has observation space =\", n_observations)"
      ],
      "execution_count": 3,
      "outputs": [
        {
          "output_type": "stream",
          "text": [
            "Environment has observation space = Box(4,)\n"
          ],
          "name": "stdout"
        }
      ]
    },
    {
      "cell_type": "markdown",
      "metadata": {
        "id": "ZibGgjrALgPM",
        "colab_type": "text"
      },
      "source": [
        "Second, we consider the action space. At every time step, the agent can move either right or left. Again we can confirm the size of the action space by querying the environment:"
      ]
    },
    {
      "cell_type": "code",
      "metadata": {
        "id": "qc9SIPxBIXrm",
        "colab_type": "code",
        "colab": {
          "base_uri": "https://localhost:8080/",
          "height": 34
        },
        "outputId": "8c47c0b6-f710-4181-bd89-12b63a21fd92"
      },
      "source": [
        "n_actions = env.action_space.n\n",
        "print(\"Number of possible actions that the agent can choose from =\", n_actions)"
      ],
      "execution_count": 4,
      "outputs": [
        {
          "output_type": "stream",
          "text": [
            "Number of possible actions that the agent can choose from = 2\n"
          ],
          "name": "stdout"
        }
      ]
    },
    {
      "cell_type": "markdown",
      "metadata": {
        "id": "pPfHME8aRKkb",
        "colab_type": "text"
      },
      "source": [
        "### Cartpole agent\n",
        "\n",
        "Now that we have instantiated the environment and understood the dimensionality of the observation and action spaces, we are ready to define our agent. In deep reinforcement learning, a deep neural network defines the agent. This network will take as input an observation of the environment and output the probability of taking each of the possible actions. Since Cartpole is defined by a low-dimensional observation space, a simple feed-forward neural network should work well for our agent. We will define this using the `Sequential` API.\n"
      ]
    },
    {
      "cell_type": "code",
      "metadata": {
        "id": "W-o_XK4oQ4eu",
        "colab_type": "code",
        "colab": {}
      },
      "source": [
        "### Define the Cartpole agent ###\n",
        "\n",
        "# Defines a feed-forward neural network\n",
        "def create_cartpole_model():\n",
        "  model = tf.keras.models.Sequential([\n",
        "      # First Dense layer\n",
        "      tf.keras.layers.Dense(units=32, activation='relu'),\n",
        "\n",
        "      # TODO: Define the last Dense layer, which will provide the network's output.\n",
        "      # Think about the space the agent needs to act in!\n",
        "      #'''TODO: Dense layer to output action probabilities'''\n",
        "      tf.keras.layers.Dense(units=2,activation=None)\n",
        "  ])\n",
        "  return model\n",
        "\n",
        "cartpole_model = create_cartpole_model()"
      ],
      "execution_count": 0,
      "outputs": []
    },
    {
      "cell_type": "markdown",
      "metadata": {
        "id": "d5D5NSIYS2IW",
        "colab_type": "text"
      },
      "source": [
        "Now that we have defined the core network architecture, we will define an *action function* that executes a forward pass through the network, given a set of observations, and samples from the output. This sampling from the output probabilities will be used to select the next action for the agent. \n",
        "\n",
        "**Critically, this action function is totally general -- we will use this function for both Cartpole and Pong, and it is applicable to other RL tasks, as well!**"
      ]
    },
    {
      "cell_type": "code",
      "metadata": {
        "id": "E_vVZRr8Q4R_",
        "colab_type": "code",
        "colab": {}
      },
      "source": [
        "### Define the agent's action function ###\n",
        "\n",
        "# Function that takes observations as input, executes a forward pass through model, \n",
        "#   and outputs a sampled action.\n",
        "# Arguments:\n",
        "#   model: the network that defines our agent\n",
        "#   observation: observation which is fed as input to the model\n",
        "# Returns:\n",
        "#   action: choice of agent action\n",
        "def choose_action(model, observation):\n",
        "  # add batch dimension to the observation\n",
        "  observation = np.expand_dims(observation, axis=0)\n",
        "\n",
        "  #'''TODO: feed the observations through the model to predict the log probabilities of each possible action.'''\n",
        "  logits = model.predict(observation)\n",
        "  \n",
        "  # pass the log probabilities through a softmax to compute true probabilities\n",
        "  prob_weights = tf.nn.softmax(logits).numpy()\n",
        "  \n",
        "  '''TODO: randomly sample from the prob_weights to pick an action.\n",
        "  Hint: carefully consider the dimensionality of the input probabilities (vector) and the output action (scalar)'''\n",
        "  action = np.random.choice(n_actions, size=1, p=prob_weights.flatten())[0]\n",
        "\n",
        "  return action"
      ],
      "execution_count": 0,
      "outputs": []
    },
    {
      "cell_type": "markdown",
      "metadata": {
        "id": "_tR9uAWcTnkr",
        "colab_type": "text"
      },
      "source": [
        "## 3.2 Define the agent's memory\n",
        "\n",
        "Now that we have instantiated the environment and defined the agent network architecture and action function, we are ready to move on to the next step in our RL workflow:\n",
        "1. **Initialize our environment and our agent**: here we will describe the different observations and actions the agent can make in the environemnt.\n",
        "2. **Define our agent's memory**: this will enable the agent to remember its past actions, observations, and rewards.\n",
        "3. **Define the learning algorithm**: this will be used to reinforce the agent's good behaviors and discourage bad behaviors.\n",
        "\n",
        "In reinforcement learning, training occurs alongside the agent's acting in the environment; an *episode* refers to a sequence of actions that ends in some terminal state, such as the pole falling down or the cart crashing. The agent will need to remember all of its observations and actions, such that once an episode ends, it can learn to \"reinforce\" the good actions and punish the undesirable actions via training. Our first step is to define a simple memory buffer that contains the agent's observations, actions, and received rewards from a given episode. \n",
        "\n",
        "**Once again, note the modularity of this memory buffer -- it can and will be applied to other RL tasks as well!**"
      ]
    },
    {
      "cell_type": "code",
      "metadata": {
        "id": "8MM6JwXVQ4JG",
        "colab_type": "code",
        "colab": {}
      },
      "source": [
        "### Agent Memory ###\n",
        "\n",
        "class Memory:\n",
        "  def __init__(self): \n",
        "      self.clear()\n",
        "\n",
        "  # Resets/restarts the memory buffer\n",
        "  def clear(self): \n",
        "      self.observations = []\n",
        "      self.actions = []\n",
        "      self.rewards = []\n",
        "\n",
        "  # Add observations, actions, rewards to memory\n",
        "  def add_to_memory(self, new_observation, new_action, new_reward): \n",
        "      self.observations.append(new_observation)\n",
        "      '''TODO: update the list of actions with new action'''\n",
        "      # TODO: your update code here\n",
        "      self.actions.append(new_action)\n",
        "      '''TODO: update the list of rewards with new reward'''\n",
        "      # TODO: your update code here\n",
        "      self.rewards.append(new_reward)\n",
        "        \n",
        "memory = Memory()"
      ],
      "execution_count": 0,
      "outputs": []
    },
    {
      "cell_type": "markdown",
      "metadata": {
        "id": "D4YhtPaUVj5m",
        "colab_type": "text"
      },
      "source": [
        "## 3.3 Reward function\n",
        "\n",
        "We're almost ready to begin the learning algorithm for our agent! The next step is to compute the rewards of our agent as it acts in the environment. Since we (and the agent) is uncertain about if and when the game or task will end (i.e., when the pole will fall), it is useful to emphasize getting rewards **now** rather than later in the future -- this is the idea of discounting. This is a similar concept to discounting money in the case of interest. ecall from lecture, we use reward discount to give more preference at getting rewards now rather than later in the future. The idea of discounting rewards is similar to discounting money in the case of interest.\n",
        "\n",
        "To compute the expected cumulative reward, known as the **return**, at a given timestep in a learning episode, we sum the discounted rewards expected at that time step $t$, within a learning episode, and projecting into the future. We define the return (cumulative reward) at a time step $t$, $R_{t}$ as:\n",
        "\n",
        ">$R_{t}=\\sum_{k=0}^\\infty\\gamma^kr_{t+k}$\n",
        "\n",
        "where  $0 < \\gamma < 1$ is the discount factor and $r_{t}$ is the reward at time step $t$, and the index $k$ increments projection into the future within a single learning episode. Intuitively, you can think of this function as depreciating any rewards received at later time steps, which will force the agent prioritize getting rewards now. Since we can't extend episodes to infinity, in practice the computation will be limited to the number of timesteps in an episode -- after that the reward is assumed to be zero.\n",
        "\n",
        "Take note of the form of this sum -- we'll have to be clever about how we implement this function. Specifically, we'll need to initialize an array of zeros, with length of the number of time steps, and fill it with the real discounted reward values as we loop through the rewards from the episode, which will have been saved in the agents memory. What we ultimately care about is which actions are better relative to other actions taken in that episode -- so, we'll normalize our computed rewards, using the mean and standard deviation of the rewards across the learning episode.\n"
      ]
    },
    {
      "cell_type": "code",
      "metadata": {
        "id": "5_Q2OFYtQ32X",
        "colab_type": "code",
        "colab": {}
      },
      "source": [
        "### Reward function ###\n",
        "\n",
        "# Helper function that normalizes an np.array x\n",
        "def normalize(x):\n",
        "  x -= np.mean(x)\n",
        "  x /= np.std(x)\n",
        "  return x.astype(np.float32)\n",
        "\n",
        "# Compute normalized, discounted, cumulative rewards (i.e., return)\n",
        "# Arguments:\n",
        "#   rewards: reward at timesteps in episode\n",
        "#   gamma: discounting factor\n",
        "# Returns:\n",
        "#   normalized discounted reward\n",
        "def discount_rewards(rewards, gamma=0.95): \n",
        "  discounted_rewards = np.zeros_like(rewards)\n",
        "  R = 0\n",
        "  for t in reversed(range(0, len(rewards))):\n",
        "      # update the total discounted reward\n",
        "      R = R * gamma + rewards[t]\n",
        "      discounted_rewards[t] = R\n",
        "      \n",
        "  return normalize(discounted_rewards)"
      ],
      "execution_count": 0,
      "outputs": []
    },
    {
      "cell_type": "markdown",
      "metadata": {
        "id": "QzbY-mjGYcmt",
        "colab_type": "text"
      },
      "source": [
        "## 3.4 Learning algorithm\n",
        "\n",
        "Now we can start to define the learing algorithm which will be used to reinforce good behaviors of the agent and discourage bad behaviours. In this lab, we will focus on *policy gradient* methods which aim to **maximize** the likelihood of actions that result in large rewards. Equivalently, this means that we want to **minimize** the negative likelihood of these same actions. We achieve this by simply **scaling** the probabilities by their associated rewards -- effectively amplifying the likelihood of actions that result in large rewards.\n",
        "\n",
        "Since the log function is monotonically increasing, this means that minimizing **negative likelihood** is equivalent to minimizing **negative log-likelihood**.  Recall that we can easily compute the negative log-likelihood of a discrete action by evaluting its [softmax cross entropy](https://www.tensorflow.org/api_docs/python/tf/nn/sparse_softmax_cross_entropy_with_logits). Like in supervised learning, we can use stochastic gradient descent methods to achieve the desired minimization. \n",
        "\n",
        "Let's begin by defining the loss function."
      ]
    },
    {
      "cell_type": "code",
      "metadata": {
        "id": "fsgZ3IDCY_Zn",
        "colab_type": "code",
        "colab": {}
      },
      "source": [
        "### Loss function ###\n",
        "\n",
        "# Arguments:\n",
        "#   logits: network's predictions for actions to take\n",
        "#   actions: the actions the agent took in an episode\n",
        "#   rewards: the rewards the agent received in an episode\n",
        "# Returns:\n",
        "#   loss\n",
        "def compute_loss(logits, actions, rewards): \n",
        "  '''TODO: complete the function call to compute the negative log probabilities'''\n",
        "  neg_logprob = tf.nn.sparse_softmax_cross_entropy_with_logits(logits=logits, labels=actions)\n",
        "  \n",
        "  '''TODO: scale the negative log probability by the rewards'''\n",
        "  loss = tf.reduce_mean(neg_logprob * rewards)\n",
        "  return loss"
      ],
      "execution_count": 0,
      "outputs": []
    },
    {
      "cell_type": "markdown",
      "metadata": {
        "id": "Rr5vQ9fqbPpp",
        "colab_type": "text"
      },
      "source": [
        "Now let's use the loss function to define a training step of our learning algorithm:"
      ]
    },
    {
      "cell_type": "code",
      "metadata": {
        "id": "_50ada7nbZ7L",
        "colab_type": "code",
        "colab": {}
      },
      "source": [
        "### Training step (forward and backpropagation) ###\n",
        "\n",
        "def train_step(model, optimizer, observations, actions, discounted_rewards):\n",
        "  with tf.GradientTape() as tape:\n",
        "      # Forward propagate through the agent network\n",
        "      logits = model(observations)\n",
        "\n",
        "      '''TODO: call the compute_loss function to compute the loss'''\n",
        "      loss = compute_loss(logits, actions, discounted_rewards)\n",
        "\n",
        "  '''TODO: run backpropagation to minimize the loss using the tape.gradient method.\n",
        "      Use `model.trainable_variables`'''\n",
        "  grads = tape.gradient(loss, model.trainable_variables)\n",
        "  optimizer.apply_gradients(zip(grads, model.trainable_variables))\n"
      ],
      "execution_count": 0,
      "outputs": []
    },
    {
      "cell_type": "markdown",
      "metadata": {
        "id": "XsjKXh6BcgjR",
        "colab_type": "text"
      },
      "source": [
        "## 3.5 Run cartpole!\n",
        "\n",
        "Having had no prior knowledge of the environment, the agent will begin to learn how to balance the pole on the cart based only on the feedback received from the environment! Having defined how our agent can move, how it takes in new observations, and how it updates its state, we'll see how it gradually learns a policy of actions to optimize balancing the pole as long as possible. To do this, we'll track how the rewards evolve as a function of training -- how should the rewards change as training progresses?"
      ]
    },
    {
      "cell_type": "code",
      "metadata": {
        "id": "XmOzc2rrcn8Q",
        "colab_type": "code",
        "colab": {
          "base_uri": "https://localhost:8080/",
          "height": 541
        },
        "outputId": "7426dcdd-7700-4b9c-c37c-22113960cd65"
      },
      "source": [
        "### Cartpole training! ###\n",
        "\n",
        "# Learning rate and optimizer\n",
        "learning_rate = 1e-3\n",
        "optimizer = tf.keras.optimizers.Adam(learning_rate)\n",
        "\n",
        "# instantiate cartpole agent\n",
        "cartpole_model = create_cartpole_model()\n",
        "\n",
        "# to track our progress\n",
        "smoothed_reward = mdl.util.LossHistory(smoothing_factor=0.9)\n",
        "plotter = mdl.util.PeriodicPlotter(sec=2, xlabel='Iterations', ylabel='Rewards')\n",
        "\n",
        "if hasattr(tqdm, '_instances'): tqdm._instances.clear() # clear if it exists\n",
        "for i_episode in range(500):\n",
        "\n",
        "  plotter.plot(smoothed_reward.get())\n",
        "\n",
        "  # Restart the environment\n",
        "  observation = env.reset()\n",
        "  memory.clear()\n",
        "\n",
        "  while True:\n",
        "      # using our observation, choose an action and take it in the environment\n",
        "      action = choose_action(cartpole_model, observation)\n",
        "      next_observation, reward, done, info = env.step(action)\n",
        "      # add to memory\n",
        "      memory.add_to_memory(observation, action, reward)\n",
        "      \n",
        "      # is the episode over? did you crash or do so well that you're done?\n",
        "      if done:\n",
        "          # determine total reward and keep a record of this\n",
        "          total_reward = sum(memory.rewards)\n",
        "          smoothed_reward.append(total_reward)\n",
        "          \n",
        "          # initiate training - remember we don't know anything about how the \n",
        "          #   agent is doing until it has crashed!\n",
        "          train_step(cartpole_model, optimizer, \n",
        "                     observations=np.vstack(memory.observations),\n",
        "                     actions=np.array(memory.actions),\n",
        "                     discounted_rewards = discount_rewards(memory.rewards))\n",
        "          \n",
        "          # reset the memory\n",
        "          memory.clear()\n",
        "          break\n",
        "      # update our observatons\n",
        "      observation = next_observation"
      ],
      "execution_count": 13,
      "outputs": [
        {
          "output_type": "display_data",
          "data": {
            "image/png": "[encoded data removed]",
            "text/plain": [
              "<Figure size 432x288 with 1 Axes>"
            ]
          },
          "metadata": {
            "tags": []
          }
        },
        {
          "output_type": "display_data",
          "data": {
            "image/png": "[encoded data removed]",
            "text/plain": [
              "<Figure size 432x288 with 1 Axes>"
            ]
          },
          "metadata": {
            "tags": [],
            "needs_background": "light"
          }
        }
      ]
    },
    {
      "cell_type": "markdown",
      "metadata": {
        "id": "mkcUtGF1VE-K",
        "colab_type": "text"
      },
      "source": [
        "To get a sense of how our agent did, we can save a video of the trained model working on balancing the pole. Realize that this is a brand new environment that the agent has not seen before!\n",
        "\n",
        "Let's display the saved video to watch how our agent did!\n"
      ]
    },
    {
      "cell_type": "code",
      "metadata": {
        "id": "PAYBkv6Zbk0J",
        "colab_type": "code",
        "colab": {
          "base_uri": "https://localhost:8080/",
          "height": 439
        },
        "outputId": "049ef6de-3768-4d06-a7af-0908181ced3e"
      },
      "source": [
        "saved_cartpole = mdl.lab3.save_video_of_model(cartpole_model, \"CartPole-v0\")\n",
        "mdl.lab3.play_video(saved_cartpole)"
      ],
      "execution_count": 15,
      "outputs": [
        {
          "output_type": "stream",
          "text": [
            "Successfully saved 157 frames into CartPole-v0.mp4!\n"
          ],
          "name": "stdout"
        },
        {
          "output_type": "execute_result",
          "data": {
            "text/html": [
              "\n",
              "        <video controls>\n",
              "            <source src=\"data:video/mp4;base64,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\" type=\"video/mp4\" />\n",
              "        </video>"
            ],
            "text/plain": [
              "<IPython.core.display.HTML object>"
            ]
          },
          "metadata": {
            "tags": []
          },
          "execution_count": 15
        }
      ]
    },
    {
      "cell_type": "markdown",
      "metadata": {
        "id": "CSbVNDpaVb3_",
        "colab_type": "text"
      },
      "source": [
        "How does the agent perform? Could you train it for shorter amounts of time and still perform well? Do you think that training longer would help even more? "
      ]
    },
    {
      "cell_type": "markdown",
      "metadata": {
        "id": "Eu6Mqxc720ST",
        "colab_type": "text"
      },
      "source": [
        "#Part 2: Pong\n",
        "\n",
        "In Cartpole, we dealt with an environment that was static -- in other words, it didn't change over time. What happens if our environment is dynamic and unpredictable? Well that's exactly the case in [Pong](https://en.wikipedia.org/wiki/Pong), since part of the environment is the opposing player. We don't know how our opponent will act or react to our actions, so the complexity of our problem increases. It also becomes much more interesting, since we can compete to beat our opponent. RL provides a powerful framework for training AI systems with the ability to handle and interact with dynamic, unpredictable environments. In this part of the lab, we'll use the tools and workflow we explored in Part 1 to build an RL agent capable of playing the game of Pong.\n"
      ]
    },
    {
      "cell_type": "markdown",
      "metadata": {
        "id": "srZ4YE29isuA",
        "colab_type": "text"
      },
      "source": [
        "## 3.6 Define and inspect the Pong environment\n",
        "\n",
        "As with Cartpole, we'll instantiate the Pong environment in the OpenAI gym, using a seed of 1."
      ]
    },
    {
      "cell_type": "code",
      "metadata": {
        "id": "lbYHLr66i15n",
        "colab_type": "code",
        "colab": {}
      },
      "source": [
        "env = gym.make(\"Pong-v0\", frameskip=5)\n",
        "env.seed(1); # for reproducibility"
      ],
      "execution_count": 0,
      "outputs": []
    },
    {
      "cell_type": "markdown",
      "metadata": {
        "id": "52uZ2Xhyi-MW",
        "colab_type": "text"
      },
      "source": [
        "Let's next consider the observation space for the Pong environment. Instead of four physical descriptors of the cart-pole setup, in the case of Pong our observations are the individual video frames (i.e., images) that depict the state of the board. Thus, the observations are 210x160 RGB images (arrays of shape (210,160,3)).\n",
        "\n",
        "We can again confirm the size of the observation space by query:"
      ]
    },
    {
      "cell_type": "code",
      "metadata": {
        "id": "0yX4GWvxjnHS",
        "colab_type": "code",
        "colab": {
          "base_uri": "https://localhost:8080/",
          "height": 34
        },
        "outputId": "a8b04bee-3a7c-414f-a000-171e522c6593"
      },
      "source": [
        "print(\"Environment has observation space =\", env.observation_space)"
      ],
      "execution_count": 17,
      "outputs": [
        {
          "output_type": "stream",
          "text": [
            "Environment has observation space = Box(210, 160, 3)\n"
          ],
          "name": "stdout"
        }
      ]
    },
    {
      "cell_type": "markdown",
      "metadata": {
        "id": "uuEC2TdSjx9D",
        "colab_type": "text"
      },
      "source": [
        "In Pong, at every time step, the agent (which controls the paddle) has six actions to choose from: no-op (no operation), move right, move left, fire, fire right, and fire left. Let's confirm the size of the action space by querying the environment:"
      ]
    },
    {
      "cell_type": "code",
      "metadata": {
        "id": "Iuy9oPc1kag3",
        "colab_type": "code",
        "colab": {
          "base_uri": "https://localhost:8080/",
          "height": 34
        },
        "outputId": "b22b5bc8-1c9b-40dd-bc8a-d3405629b477"
      },
      "source": [
        "n_actions = env.action_space.n\n",
        "print(\"Number of possible actions that the agent can choose from =\", n_actions)"
      ],
      "execution_count": 18,
      "outputs": [
        {
          "output_type": "stream",
          "text": [
            "Number of possible actions that the agent can choose from = 6\n"
          ],
          "name": "stdout"
        }
      ]
    },
    {
      "cell_type": "markdown",
      "metadata": {
        "id": "9-fghDRigUE5",
        "colab_type": "text"
      },
      "source": [
        "## 3.7 Define the Pong agent\n",
        "\n",
        "As before, we'll use a neural network to define our agent. What network architecture do you think would be especially well suited to this game? Since our observations are now in the form of images, we'll add convolutional layers to the network to increase the learning capacity of our network."
      ]
    },
    {
      "cell_type": "code",
      "metadata": {
        "id": "IJiqbFYpgYRH",
        "colab_type": "code",
        "colab": {}
      },
      "source": [
        "### Define the Pong agent ###\n",
        "\n",
        "# Functionally define layers for convenience\n",
        "# All convolutional layers will have ReLu activation\n",
        "Conv2D = functools.partial(tf.keras.layers.Conv2D, padding='same', activation='relu')\n",
        "Flatten = tf.keras.layers.Flatten\n",
        "Dense = tf.keras.layers.Dense\n",
        "\n",
        "# Defines a CNN for the Pong agent\n",
        "def create_pong_model():\n",
        "  model = tf.keras.models.Sequential([\n",
        "    # Convolutional layers\n",
        "    # First, 16 7x7 filters with 4x4 stride\n",
        "    Conv2D(filters=16, kernel_size=7, strides=4),\n",
        "\n",
        "    # TODO: define convolutional layers with 32 5x5 filters and 2x2 stride\n",
        "    Conv2D(filters=32, kernel_size=5, strides=2),\n",
        "\n",
        "    # TODO: define convolutional layers with 48 3x3 filters and 2x2 stride\n",
        "    Conv2D(filters=48, kernel_size=3, strides=2),\n",
        "\n",
        "    Flatten(),\n",
        "    \n",
        "    # Fully connected layer and output\n",
        "    Dense(units=64, activation='relu'),\n",
        "    # TODO: define the output dimension of the last Dense layer. \n",
        "    # Pay attention to the space the agent needs to act in\n",
        "    Dense(units=n_actions, activation=None)\n",
        "  \n",
        "  ])\n",
        "  return model\n",
        "\n",
        "pong_model = create_pong_model()"
      ],
      "execution_count": 0,
      "outputs": []
    },
    {
      "cell_type": "markdown",
      "metadata": {
        "id": "yaeZ067olFiJ",
        "colab_type": "text"
      },
      "source": [
        "Since we've already defined the action function, `choose_action(model, observation)`, we don't need to define it again. Instead, we'll be able to reuse it later on by passing in our new model we've just created, `pong_model`. This is awesome because our action function provides a modular and generalizable method for all sorts of RL agents!"
      ]
    },
    {
      "cell_type": "markdown",
      "metadata": {
        "id": "l0RvqOVkmc2r",
        "colab_type": "text"
      },
      "source": [
        "## 3.8 Pong-specific functions\n",
        "\n",
        "In Part 1 (Cartpole), we implemented some key functions and classes to build and train our RL agent -- `choose_action(model, observation)` and the `Memory` class, for example. However, in getting ready to apply these to a new game like Pong, we might need to make some slight modifications. \n",
        "\n",
        "Namely, we need to think about what happens when a game ends. In Pong, we know a game has ended if the reward is +1 (we won!) or -1 (we lost unfortunately). Otherwise, we expect the reward at a timestep to be zero -- the players (or agents) are just playing eachother. So, after a game ends, we will need to reset the reward to zero when a game ends. This will result in a modified reward function."
      ]
    },
    {
      "cell_type": "code",
      "metadata": {
        "id": "iEZG2o50luLu",
        "colab_type": "code",
        "colab": {}
      },
      "source": [
        "### Pong reward function ###\n",
        "\n",
        "# Compute normalized, discounted rewards for Pong (i.e., return)\n",
        "# Arguments:\n",
        "#   rewards: reward at timesteps in episode\n",
        "#   gamma: discounting factor. Note increase to 0.99 -- rate of depreciation will be slower.\n",
        "# Returns:\n",
        "#   normalized discounted reward\n",
        "def discount_rewards(rewards, gamma=0.99): \n",
        "  discounted_rewards = np.zeros_like(rewards)\n",
        "  R = 0\n",
        "  for t in reversed(range(0, len(rewards))):\n",
        "      # NEW: Reset the sum if the reward is not 0 (the game has ended!)\n",
        "      if rewards[t] != 0:\n",
        "        R = 0\n",
        "      # update the total discounted reward as before\n",
        "      R = R * gamma + rewards[t]\n",
        "      discounted_rewards[t] = R\n",
        "      \n",
        "  return normalize(discounted_rewards)"
      ],
      "execution_count": 0,
      "outputs": []
    },
    {
      "cell_type": "markdown",
      "metadata": {
        "id": "HopLpb4IoOqA",
        "colab_type": "text"
      },
      "source": [
        "Additionally, we have to consider the nature of the observations in the Pong environment, and how they will be fed into our network. Our observations in this case are images. Before we input an image into our network, we'll do a bit of pre-processing to crop and scale, clean up the background colors to a single color, and set the important game elements to a single color. Let's use this function to visualize what an observation might look like before and after pre-processing."
      ]
    },
    {
      "cell_type": "code",
      "metadata": {
        "id": "no5IIYtFm8pI",
        "colab_type": "code",
        "colab": {
          "base_uri": "https://localhost:8080/",
          "height": 227
        },
        "outputId": "f613a889-2fb2-49d6-808f-9f4d8a614162"
      },
      "source": [
        "observation = env.reset()\n",
        "for i in range(30):\n",
        "  observation, _,_,_ = env.step(0)\n",
        "observation_pp = mdl.lab3.preprocess_pong(observation)\n",
        "\n",
        "f = plt.figure(figsize=(10,3))\n",
        "ax = f.add_subplot(121)\n",
        "ax2 = f.add_subplot(122)\n",
        "ax.imshow(observation); ax.grid(False);\n",
        "ax2.imshow(np.squeeze(observation_pp)); ax2.grid(False); plt.title('Preprocessed Observation');"
      ],
      "execution_count": 21,
      "outputs": [
        {
          "output_type": "display_data",
          "data": {
            "image/png": "[encoded data removed]",
            "text/plain": [
              "<Figure size 720x216 with 2 Axes>"
            ]
          },
          "metadata": {
            "tags": [],
            "needs_background": "light"
          }
        }
      ]
    },
    {
      "cell_type": "markdown",
      "metadata": {
        "id": "bYwIWC-Cz8F2",
        "colab_type": "text"
      },
      "source": [
        "What do you notice? How might these changes be important for training our RL algorithm?"
      ]
    },
    {
      "cell_type": "markdown",
      "metadata": {
        "id": "mRqcaDQ1pm3x",
        "colab_type": "text"
      },
      "source": [
        "## 3.9 Training Pong\n",
        "\n",
        "We're now all set up to start training our RL algorithm and agent for the game of Pong! We've already defined our loss function with `compute_loss`, which employs policy gradient learning, as well as our backpropagation step with `train_step` which is beautiful! We will use these functions to execute training the Pong agent. Let's walk through the training block.\n",
        "\n",
        "In Pong, rather than feeding our network one image at a time, it can actually improve performance to input the difference between two consecutive observations, which really gives us information about the movement between frames -- how the game is changing. We'll first pre-process the raw observation, `x`, and then we'll compute the difference with the image frame we saw one timestep before. \n",
        "\n",
        "This observation change will be forward propagated through our Pong agent, the CNN network model, which will then predict the next action to take based on this observation. The raw reward will be computed, and the observation, action, and reward will be recorded into memory. This will continue until a training episode, i.e., a game, ends.\n",
        "\n",
        "Then, we will compute the discounted rewards, and use this information to execute a training step. Memory will be cleared, and we will do it all over again!\n",
        "\n",
        "Let's run the code block to train our Pong agent. Note that completing training will take quite a bit of time (estimated at least a couple of hours). We will again visualize the evolution of the total reward as a function of training to get a sense of how the agent is learning."
      ]
    },
    {
      "cell_type": "code",
      "metadata": {
        "id": "O9OVL__CmCyw",
        "colab_type": "code",
        "colab": {
          "base_uri": "https://localhost:8080/",
          "height": 279
        },
        "outputId": "fa9b1125-177f-41b5-91f0-648346fab3f2"
      },
      "source": [
        "### Training Pong ###\n",
        "\n",
        "# Hyperparameters\n",
        "learning_rate=1e-4\n",
        "MAX_ITERS = 10000 # increase the maximum number of episodes, since Pong is more complex!\n",
        "\n",
        "# Model and optimizer\n",
        "pong_model = create_pong_model()\n",
        "optimizer = tf.keras.optimizers.Adam(learning_rate)\n",
        "\n",
        "# plotting\n",
        "smoothed_reward = mdl.util.LossHistory(smoothing_factor=0.9)\n",
        "plotter = mdl.util.PeriodicPlotter(sec=5, xlabel='Iterations', ylabel='Rewards')\n",
        "memory = Memory()\n",
        "\n",
        "for i_episode in range(MAX_ITERS):\n",
        "\n",
        "  plotter.plot(smoothed_reward.get())\n",
        "\n",
        "  # Restart the environment\n",
        "  observation = env.reset()\n",
        "  previous_frame = mdl.lab3.preprocess_pong(observation)\n",
        "\n",
        "  while True:\n",
        "      # Pre-process image \n",
        "      current_frame = mdl.lab3.preprocess_pong(observation)\n",
        "      \n",
        "      '''TODO: determine the observation change\n",
        "      Hint: this is the difference between the past two frames'''\n",
        "      obs_change = current_frame - previous_frame # TODO\n",
        "      \n",
        "      '''TODO: choose an action for the pong model, using the frame difference, and evaluate'''\n",
        "      action = choose_action(pong_model, obs_change)# TODO\n",
        "      # Take the chosen action\n",
        "      next_observation, reward, done, info = env.step(action)\n",
        "\n",
        "      '''TODO: save the observed frame difference, the action that was taken, and the resulting reward!'''\n",
        "      memory.add_to_memory(obs_change, action, reward)\n",
        "      \n",
        "      # is the episode over? did you crash or do so well that you're done?\n",
        "      if done:\n",
        "          # determine total reward and keep a record of this\n",
        "          total_reward = sum(memory.rewards)\n",
        "          smoothed_reward.append( total_reward )\n",
        "\n",
        "          # begin training\n",
        "          train_step(pong_model, \n",
        "                     optimizer, \n",
        "                     observations = np.stack(memory.observations, 0), \n",
        "                     actions = np.array(memory.actions),\n",
        "                     discounted_rewards = discount_rewards(memory.rewards))\n",
        "          \n",
        "          memory.clear()\n",
        "          break\n",
        "\n",
        "      observation = next_observation\n",
        "      previous_frame = current_frame"
      ],
      "execution_count": 0,
      "outputs": [
        {
          "output_type": "display_data",
          "data": {
            "image/png": "[encoded data removed]",
            "text/plain": [
              "<Figure size 432x288 with 1 Axes>"
            ]
          },
          "metadata": {
            "tags": []
          }
        }
      ]
    },
    {
      "cell_type": "markdown",
      "metadata": {
        "id": "8LiEY5Y_ts-Z",
        "colab_type": "text"
      },
      "source": [
        "Finally we can put our trained agent to the test! It will play in a newly instantiated Pong environment against the \"computer\", a base AI system for Pong. Your agent plays as the green paddle. Let's watch the match instant replay!"
      ]
    },
    {
      "cell_type": "code",
      "metadata": {
        "id": "TvHXbkL0tR6M",
        "colab_type": "code",
        "colab": {}
      },
      "source": [
        "saved_pong = mdl.lab3.save_video_of_model(\n",
        "    pong_model, \"Pong-v0\", obs_diff=True, \n",
        "    pp_fn=mdl.lab3.preprocess_pong)\n",
        "mdl.lab3.play_video(saved_pong)"
      ],
      "execution_count": 0,
      "outputs": []
    },
    {
      "cell_type": "markdown",
      "metadata": {
        "id": "TIlwIgBP3Js6",
        "colab_type": "text"
      },
      "source": [
        "## 3.10 Conclusion\n",
        "\n",
        "That's it! Congratulations on training two RL agents and putting them to the test! We encourage you to consider the following:\n",
        "\n",
        "*   How does the agent perform?\n",
        "*   Could you train it for shorter amounts of time  and still perform well?\n",
        "*   Do you think that training longer would help even more? \n",
        "* How does the complexity of Pong relative to Cartpole alter the rate at which the agent learns and its performance? \n",
        "* What are some things you could change about the agent or the learning process to potentially improve performance?\n",
        "\n",
        "If you want to go further, try to optimize your model to achieve the best performance! **[Email us](mailto:introtodeeplearning-staff@mit.edu) a copy of your notebook with the Pong training executed AND a saved video of your Pong agent competing! We'll give out prizes to the best performers!**"
      ]
    }
  ]
}