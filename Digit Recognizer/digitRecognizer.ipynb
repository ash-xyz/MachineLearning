{
 "cells": [
  {
   "cell_type": "code",
   "execution_count": 1,
   "metadata": {},
   "outputs": [],
   "source": [
    "import tensorflow as tf\n",
    "import pandas as pd \n",
    "import numpy as np\n",
    "import matplotlib.pyplot as plt "
   ]
  },
  {
   "cell_type": "markdown",
   "metadata": {},
   "source": [
    "# Import Dataset"
   ]
  },
  {
   "cell_type": "code",
   "execution_count": 2,
   "metadata": {},
   "outputs": [],
   "source": [
    "train = pd.read_csv('data/train.csv')\n",
    "test =  pd.read_csv('data/test.csv')"
   ]
  },
  {
   "cell_type": "code",
   "execution_count": 3,
   "metadata": {},
   "outputs": [],
   "source": [
    "y_train = train[\"label\"]\n",
    "x_train_set = train.drop(labels=\"label\", axis=1)\n",
    "del train #frees space"
   ]
  },
  {
   "cell_type": "markdown",
   "metadata": {},
   "source": [
    "# Data Manipulation"
   ]
  },
  {
   "cell_type": "code",
   "execution_count": 4,
   "metadata": {
    "tags": []
   },
   "outputs": [
    {
     "output_type": "stream",
     "name": "stdout",
     "text": "(38000, 28, 28, 1)\n(38000,)\n"
    }
   ],
   "source": [
    "#Normalize\n",
    "x_train_set/=255.0\n",
    "test/=255.0\n",
    "#Reshape\n",
    "x_train_set = tf.reshape(x_train_set,[-1,28,28,1])\n",
    "test = tf.reshape(test,[-1,28,28,1])\n",
    "\n",
    "x_train, x_val = x_train_set[:38000],x_train_set[38000:]\n",
    "y_train, y_val = y_train[:38000],y_train[38000:]\n",
    "print(x_train.shape)\n",
    "print(y_train.shape)"
   ]
  },
  {
   "cell_type": "markdown",
   "metadata": {},
   "source": [
    "# Define Model"
   ]
  },
  {
   "cell_type": "code",
   "execution_count": 5,
   "metadata": {},
   "outputs": [],
   "source": [
    "model = tf.keras.Sequential()\n",
    "\n",
    "model.add(tf.keras.layers.Conv2D(filters=32, kernel_size=(5, 5), padding='Same',\n",
    "                                 activation='relu', input_shape=(28, 28, 1)))\n",
    "model.add(tf.keras.layers.Conv2D(filters=32, kernel_size=(5, 5), padding='Same',\n",
    "                                 activation='relu'))\n",
    "model.add(tf.keras.layers.MaxPool2D(pool_size=(2, 2)))\n",
    "model.add(tf.keras.layers.Dropout(0.25))\n",
    "\n",
    "\n",
    "model.add(tf.keras.layers.Conv2D(filters=64, kernel_size=(3, 3), padding='Same',\n",
    "                                 activation='relu'))\n",
    "model.add(tf.keras.layers.Conv2D(filters=64, kernel_size=(3, 3), padding='Same',\n",
    "                                 activation='relu'))\n",
    "model.add(tf.keras.layers.MaxPool2D(pool_size=(2, 2), strides=(2, 2)))\n",
    "model.add(tf.keras.layers.Dropout(0.25))\n",
    "\n",
    "\n",
    "model.add(tf.keras.layers.Flatten())\n",
    "model.add(tf.keras.layers.Dense(256, activation=\"relu\"))\n",
    "model.add(tf.keras.layers.Dropout(0.5))\n",
    "model.add(tf.keras.layers.Dense(10, activation=\"softmax\"))"
   ]
  },
  {
   "cell_type": "markdown",
   "metadata": {},
   "source": [
    "# Compile the model"
   ]
  },
  {
   "cell_type": "code",
   "execution_count": 6,
   "metadata": {},
   "outputs": [],
   "source": [
    "model.compile(optimizer=\"rmsprop\",loss=\"sparse_categorical_crossentropy\",metrics=[\"accuracy\"])"
   ]
  },
  {
   "cell_type": "markdown",
   "metadata": {},
   "source": [
    "# Fitting The Data"
   ]
  },
  {
   "cell_type": "code",
   "execution_count": 7,
   "metadata": {
    "tags": []
   },
   "outputs": [
    {
     "output_type": "stream",
     "name": "stdout",
     "text": "Epoch 1/20\n475/475 [==============================] - 3s 7ms/step - loss: 0.2389 - accuracy: 0.9230 - val_loss: 0.0497 - val_accuracy: 0.9837\nEpoch 2/20\n475/475 [==============================] - 3s 7ms/step - loss: 0.0731 - accuracy: 0.9780 - val_loss: 0.0412 - val_accuracy: 0.9868\nEpoch 3/20\n475/475 [==============================] - 3s 7ms/step - loss: 0.0525 - accuracy: 0.9839 - val_loss: 0.0320 - val_accuracy: 0.9893\nEpoch 4/20\n475/475 [==============================] - 3s 7ms/step - loss: 0.0462 - accuracy: 0.9863 - val_loss: 0.0315 - val_accuracy: 0.9898\nEpoch 5/20\n475/475 [==============================] - 3s 7ms/step - loss: 0.0397 - accuracy: 0.9884 - val_loss: 0.0254 - val_accuracy: 0.9910\nEpoch 6/20\n475/475 [==============================] - 3s 6ms/step - loss: 0.0365 - accuracy: 0.9893 - val_loss: 0.0252 - val_accuracy: 0.9910\nEpoch 7/20\n475/475 [==============================] - 3s 7ms/step - loss: 0.0333 - accuracy: 0.9904 - val_loss: 0.0299 - val_accuracy: 0.9908\nEpoch 8/20\n475/475 [==============================] - 3s 7ms/step - loss: 0.0315 - accuracy: 0.9908 - val_loss: 0.0270 - val_accuracy: 0.9912\nEpoch 9/20\n475/475 [==============================] - 3s 7ms/step - loss: 0.0308 - accuracy: 0.9912 - val_loss: 0.0229 - val_accuracy: 0.9923\nEpoch 10/20\n475/475 [==============================] - 3s 7ms/step - loss: 0.0294 - accuracy: 0.9917 - val_loss: 0.0308 - val_accuracy: 0.9920\nEpoch 11/20\n475/475 [==============================] - 3s 7ms/step - loss: 0.0285 - accuracy: 0.9923 - val_loss: 0.0347 - val_accuracy: 0.9905\nEpoch 12/20\n475/475 [==============================] - 3s 7ms/step - loss: 0.0278 - accuracy: 0.9918 - val_loss: 0.0287 - val_accuracy: 0.9925\nEpoch 13/20\n475/475 [==============================] - 3s 7ms/step - loss: 0.0274 - accuracy: 0.9922 - val_loss: 0.0250 - val_accuracy: 0.9933\nEpoch 14/20\n475/475 [==============================] - 3s 6ms/step - loss: 0.0274 - accuracy: 0.9924 - val_loss: 0.0212 - val_accuracy: 0.9933\nEpoch 15/20\n475/475 [==============================] - 3s 6ms/step - loss: 0.0297 - accuracy: 0.9919 - val_loss: 0.0225 - val_accuracy: 0.9925\nEpoch 16/20\n475/475 [==============================] - 3s 7ms/step - loss: 0.0280 - accuracy: 0.9926 - val_loss: 0.0292 - val_accuracy: 0.9920\nEpoch 17/20\n475/475 [==============================] - 3s 6ms/step - loss: 0.0315 - accuracy: 0.9916 - val_loss: 0.0256 - val_accuracy: 0.9925\nEpoch 18/20\n475/475 [==============================] - 3s 7ms/step - loss: 0.0279 - accuracy: 0.9926 - val_loss: 0.0315 - val_accuracy: 0.9923\nEpoch 19/20\n475/475 [==============================] - 3s 6ms/step - loss: 0.0295 - accuracy: 0.9918 - val_loss: 0.0272 - val_accuracy: 0.9925\nEpoch 20/20\n475/475 [==============================] - 3s 7ms/step - loss: 0.0307 - accuracy: 0.9921 - val_loss: 0.0218 - val_accuracy: 0.9942\n"
    }
   ],
   "source": [
    "history = model.fit(x=x_train,y = y_train, batch_size=80,epochs=20,validation_data=(x_val,y_val))"
   ]
  },
  {
   "cell_type": "markdown",
   "metadata": {},
   "source": [
    "# Predicting the test data"
   ]
  },
  {
   "cell_type": "code",
   "execution_count": 9,
   "metadata": {
    "tags": []
   },
   "outputs": [
    {
     "output_type": "stream",
     "name": "stdout",
     "text": "[[1.6950201e-08 1.8800494e-08 9.9999833e-01 4.6847543e-08 4.7756741e-09\n  2.6903802e-13 7.3780176e-11 1.6213301e-06 2.2697716e-08 1.0516628e-09]]\n[[9.9999321e-01 1.5104309e-10 6.4452706e-08 8.6388967e-09 3.7194359e-09\n  3.7006592e-07 5.7604102e-06 2.5637567e-08 1.5827362e-07 2.7100481e-07]]\n[[3.0276515e-16 3.5235319e-15 4.6525440e-15 1.1227140e-15 3.4563178e-07\n  3.1741623e-16 2.9344274e-20 3.4568643e-11 8.0639895e-10 9.9999964e-01]]\n"
    },
    {
     "output_type": "display_data",
     "data": {
      "text/plain": "<Figure size 432x288 with 1 Axes>",
      "image/svg+xml": "<?xml version=\"1.0\" encoding=\"utf-8\" standalone=\"no\"?>\n<!DOCTYPE svg PUBLIC \"-//W3C//DTD SVG 1.1//EN\"\n  \"http://www.w3.org/Graphics/SVG/1.1/DTD/svg11.dtd\">\n<!-- Created with matplotlib (https://matplotlib.org/) -->\n<svg height=\"248.518125pt\" version=\"1.1\" viewBox=\"0 0 251.565 248.518125\" width=\"251.565pt\" xmlns=\"http://www.w3.org/2000/svg\" xmlns:xlink=\"http://www.w3.org/1999/xlink\">\n <defs>\n  <style type=\"text/css\">\n*{stroke-linecap:butt;stroke-linejoin:round;}\n  </style>\n </defs>\n <g id=\"figure_1\">\n  <g id=\"patch_1\">\n   <path d=\"M 0 248.518125 \nL 251.565 248.518125 \nL 251.565 0 \nL 0 0 \nz\n\" style=\"fill:none;\"/>\n  </g>\n  <g id=\"axes_1\">\n   <g id=\"patch_2\">\n    <path d=\"M 26.925 224.64 \nL 244.365 224.64 \nL 244.365 7.2 \nL 26.925 7.2 \nz\n\" style=\"fill:#ffffff;\"/>\n   </g>\n   <g clip-path=\"url(#pf1889b74f7)\">\n    <image height=\"218\" id=\"image8f23d81ca3\" transform=\"scale(1 -1)translate(0 -218)\" width=\"218\" x=\"27\" xlink:href=\"data:image/png;base64,\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\" y=\"-6.518125\"/>\n   </g>\n   <g id=\"matplotlib.axis_1\">\n    <g id=\"xtick_1\">\n     <g id=\"line2d_1\">\n      <defs>\n       <path d=\"M 0 0 \nL 0 3.5 \n\" id=\"m8a7b33611f\" style=\"stroke:#000000;stroke-width:0.8;\"/>\n      </defs>\n      <g>\n       <use style=\"stroke:#000000;stroke-width:0.8;\" x=\"30.807857\" xlink:href=\"#m8a7b33611f\" y=\"224.64\"/>\n      </g>\n     </g>\n     <g id=\"text_1\">\n      <!-- 0 -->\n      <defs>\n       <path d=\"M 31.78125 66.40625 \nQ 24.171875 66.40625 20.328125 58.90625 \nQ 16.5 51.421875 16.5 36.375 \nQ 16.5 21.390625 20.328125 13.890625 \nQ 24.171875 6.390625 31.78125 6.390625 \nQ 39.453125 6.390625 43.28125 13.890625 \nQ 47.125 21.390625 47.125 36.375 \nQ 47.125 51.421875 43.28125 58.90625 \nQ 39.453125 66.40625 31.78125 66.40625 \nz\nM 31.78125 74.21875 \nQ 44.046875 74.21875 50.515625 64.515625 \nQ 56.984375 54.828125 56.984375 36.375 \nQ 56.984375 17.96875 50.515625 8.265625 \nQ 44.046875 -1.421875 31.78125 -1.421875 \nQ 19.53125 -1.421875 13.0625 8.265625 \nQ 6.59375 17.96875 6.59375 36.375 \nQ 6.59375 54.828125 13.0625 64.515625 \nQ 19.53125 74.21875 31.78125 74.21875 \nz\n\" id=\"DejaVuSans-48\"/>\n      </defs>\n      <g transform=\"translate(27.626607 239.238437)scale(0.1 -0.1)\">\n       <use xlink:href=\"#DejaVuSans-48\"/>\n      </g>\n     </g>\n    </g>\n    <g id=\"xtick_2\">\n     <g id=\"line2d_2\">\n      <g>\n       <use style=\"stroke:#000000;stroke-width:0.8;\" x=\"69.636429\" xlink:href=\"#m8a7b33611f\" y=\"224.64\"/>\n      </g>\n     </g>\n     <g id=\"text_2\">\n      <!-- 5 -->\n      <defs>\n       <path d=\"M 10.796875 72.90625 \nL 49.515625 72.90625 \nL 49.515625 64.59375 \nL 19.828125 64.59375 \nL 19.828125 46.734375 \nQ 21.96875 47.46875 24.109375 47.828125 \nQ 26.265625 48.1875 28.421875 48.1875 \nQ 40.625 48.1875 47.75 41.5 \nQ 54.890625 34.8125 54.890625 23.390625 \nQ 54.890625 11.625 47.5625 5.09375 \nQ 40.234375 -1.421875 26.90625 -1.421875 \nQ 22.3125 -1.421875 17.546875 -0.640625 \nQ 12.796875 0.140625 7.71875 1.703125 \nL 7.71875 11.625 \nQ 12.109375 9.234375 16.796875 8.0625 \nQ 21.484375 6.890625 26.703125 6.890625 \nQ 35.15625 6.890625 40.078125 11.328125 \nQ 45.015625 15.765625 45.015625 23.390625 \nQ 45.015625 31 40.078125 35.4375 \nQ 35.15625 39.890625 26.703125 39.890625 \nQ 22.75 39.890625 18.8125 39.015625 \nQ 14.890625 38.140625 10.796875 36.28125 \nz\n\" id=\"DejaVuSans-53\"/>\n      </defs>\n      <g transform=\"translate(66.455179 239.238437)scale(0.1 -0.1)\">\n       <use xlink:href=\"#DejaVuSans-53\"/>\n      </g>\n     </g>\n    </g>\n    <g id=\"xtick_3\">\n     <g id=\"line2d_3\">\n      <g>\n       <use style=\"stroke:#000000;stroke-width:0.8;\" x=\"108.465\" xlink:href=\"#m8a7b33611f\" y=\"224.64\"/>\n      </g>\n     </g>\n     <g id=\"text_3\">\n      <!-- 10 -->\n      <defs>\n       <path d=\"M 12.40625 8.296875 \nL 28.515625 8.296875 \nL 28.515625 63.921875 \nL 10.984375 60.40625 \nL 10.984375 69.390625 \nL 28.421875 72.90625 \nL 38.28125 72.90625 \nL 38.28125 8.296875 \nL 54.390625 8.296875 \nL 54.390625 0 \nL 12.40625 0 \nz\n\" id=\"DejaVuSans-49\"/>\n      </defs>\n      <g transform=\"translate(102.1025 239.238437)scale(0.1 -0.1)\">\n       <use xlink:href=\"#DejaVuSans-49\"/>\n       <use x=\"63.623047\" xlink:href=\"#DejaVuSans-48\"/>\n      </g>\n     </g>\n    </g>\n    <g id=\"xtick_4\">\n     <g id=\"line2d_4\">\n      <g>\n       <use style=\"stroke:#000000;stroke-width:0.8;\" x=\"147.293571\" xlink:href=\"#m8a7b33611f\" y=\"224.64\"/>\n      </g>\n     </g>\n     <g id=\"text_4\">\n      <!-- 15 -->\n      <g transform=\"translate(140.931071 239.238437)scale(0.1 -0.1)\">\n       <use xlink:href=\"#DejaVuSans-49\"/>\n       <use x=\"63.623047\" xlink:href=\"#DejaVuSans-53\"/>\n      </g>\n     </g>\n    </g>\n    <g id=\"xtick_5\">\n     <g id=\"line2d_5\">\n      <g>\n       <use style=\"stroke:#000000;stroke-width:0.8;\" x=\"186.122143\" xlink:href=\"#m8a7b33611f\" y=\"224.64\"/>\n      </g>\n     </g>\n     <g id=\"text_5\">\n      <!-- 20 -->\n      <defs>\n       <path d=\"M 19.1875 8.296875 \nL 53.609375 8.296875 \nL 53.609375 0 \nL 7.328125 0 \nL 7.328125 8.296875 \nQ 12.9375 14.109375 22.625 23.890625 \nQ 32.328125 33.6875 34.8125 36.53125 \nQ 39.546875 41.84375 41.421875 45.53125 \nQ 43.3125 49.21875 43.3125 52.78125 \nQ 43.3125 58.59375 39.234375 62.25 \nQ 35.15625 65.921875 28.609375 65.921875 \nQ 23.96875 65.921875 18.8125 64.3125 \nQ 13.671875 62.703125 7.8125 59.421875 \nL 7.8125 69.390625 \nQ 13.765625 71.78125 18.9375 73 \nQ 24.125 74.21875 28.421875 74.21875 \nQ 39.75 74.21875 46.484375 68.546875 \nQ 53.21875 62.890625 53.21875 53.421875 \nQ 53.21875 48.921875 51.53125 44.890625 \nQ 49.859375 40.875 45.40625 35.40625 \nQ 44.1875 33.984375 37.640625 27.21875 \nQ 31.109375 20.453125 19.1875 8.296875 \nz\n\" id=\"DejaVuSans-50\"/>\n      </defs>\n      <g transform=\"translate(179.759643 239.238437)scale(0.1 -0.1)\">\n       <use xlink:href=\"#DejaVuSans-50\"/>\n       <use x=\"63.623047\" xlink:href=\"#DejaVuSans-48\"/>\n      </g>\n     </g>\n    </g>\n    <g id=\"xtick_6\">\n     <g id=\"line2d_6\">\n      <g>\n       <use style=\"stroke:#000000;stroke-width:0.8;\" x=\"224.950714\" xlink:href=\"#m8a7b33611f\" y=\"224.64\"/>\n      </g>\n     </g>\n     <g id=\"text_6\">\n      <!-- 25 -->\n      <g transform=\"translate(218.588214 239.238437)scale(0.1 -0.1)\">\n       <use xlink:href=\"#DejaVuSans-50\"/>\n       <use x=\"63.623047\" xlink:href=\"#DejaVuSans-53\"/>\n      </g>\n     </g>\n    </g>\n   </g>\n   <g id=\"matplotlib.axis_2\">\n    <g id=\"ytick_1\">\n     <g id=\"line2d_7\">\n      <defs>\n       <path d=\"M 0 0 \nL -3.5 0 \n\" id=\"mb1b4a14636\" style=\"stroke:#000000;stroke-width:0.8;\"/>\n      </defs>\n      <g>\n       <use style=\"stroke:#000000;stroke-width:0.8;\" x=\"26.925\" xlink:href=\"#mb1b4a14636\" y=\"11.082857\"/>\n      </g>\n     </g>\n     <g id=\"text_7\">\n      <!-- 0 -->\n      <g transform=\"translate(13.5625 14.882076)scale(0.1 -0.1)\">\n       <use xlink:href=\"#DejaVuSans-48\"/>\n      </g>\n     </g>\n    </g>\n    <g id=\"ytick_2\">\n     <g id=\"line2d_8\">\n      <g>\n       <use style=\"stroke:#000000;stroke-width:0.8;\" x=\"26.925\" xlink:href=\"#mb1b4a14636\" y=\"49.911429\"/>\n      </g>\n     </g>\n     <g id=\"text_8\">\n      <!-- 5 -->\n      <g transform=\"translate(13.5625 53.710647)scale(0.1 -0.1)\">\n       <use xlink:href=\"#DejaVuSans-53\"/>\n      </g>\n     </g>\n    </g>\n    <g id=\"ytick_3\">\n     <g id=\"line2d_9\">\n      <g>\n       <use style=\"stroke:#000000;stroke-width:0.8;\" x=\"26.925\" xlink:href=\"#mb1b4a14636\" y=\"88.74\"/>\n      </g>\n     </g>\n     <g id=\"text_9\">\n      <!-- 10 -->\n      <g transform=\"translate(7.2 92.539219)scale(0.1 -0.1)\">\n       <use xlink:href=\"#DejaVuSans-49\"/>\n       <use x=\"63.623047\" xlink:href=\"#DejaVuSans-48\"/>\n      </g>\n     </g>\n    </g>\n    <g id=\"ytick_4\">\n     <g id=\"line2d_10\">\n      <g>\n       <use style=\"stroke:#000000;stroke-width:0.8;\" x=\"26.925\" xlink:href=\"#mb1b4a14636\" y=\"127.568571\"/>\n      </g>\n     </g>\n     <g id=\"text_10\">\n      <!-- 15 -->\n      <g transform=\"translate(7.2 131.36779)scale(0.1 -0.1)\">\n       <use xlink:href=\"#DejaVuSans-49\"/>\n       <use x=\"63.623047\" xlink:href=\"#DejaVuSans-53\"/>\n      </g>\n     </g>\n    </g>\n    <g id=\"ytick_5\">\n     <g id=\"line2d_11\">\n      <g>\n       <use style=\"stroke:#000000;stroke-width:0.8;\" x=\"26.925\" xlink:href=\"#mb1b4a14636\" y=\"166.397143\"/>\n      </g>\n     </g>\n     <g id=\"text_11\">\n      <!-- 20 -->\n      <g transform=\"translate(7.2 170.196362)scale(0.1 -0.1)\">\n       <use xlink:href=\"#DejaVuSans-50\"/>\n       <use x=\"63.623047\" xlink:href=\"#DejaVuSans-48\"/>\n      </g>\n     </g>\n    </g>\n    <g id=\"ytick_6\">\n     <g id=\"line2d_12\">\n      <g>\n       <use style=\"stroke:#000000;stroke-width:0.8;\" x=\"26.925\" xlink:href=\"#mb1b4a14636\" y=\"205.225714\"/>\n      </g>\n     </g>\n     <g id=\"text_12\">\n      <!-- 25 -->\n      <g transform=\"translate(7.2 209.024933)scale(0.1 -0.1)\">\n       <use xlink:href=\"#DejaVuSans-50\"/>\n       <use x=\"63.623047\" xlink:href=\"#DejaVuSans-53\"/>\n      </g>\n     </g>\n    </g>\n   </g>\n   <g id=\"patch_3\">\n    <path d=\"M 26.925 224.64 \nL 26.925 7.2 \n\" style=\"fill:none;stroke:#000000;stroke-linecap:square;stroke-linejoin:miter;stroke-width:0.8;\"/>\n   </g>\n   <g id=\"patch_4\">\n    <path d=\"M 244.365 224.64 \nL 244.365 7.2 \n\" style=\"fill:none;stroke:#000000;stroke-linecap:square;stroke-linejoin:miter;stroke-width:0.8;\"/>\n   </g>\n   <g id=\"patch_5\">\n    <path d=\"M 26.925 224.64 \nL 244.365 224.64 \n\" style=\"fill:none;stroke:#000000;stroke-linecap:square;stroke-linejoin:miter;stroke-width:0.8;\"/>\n   </g>\n   <g id=\"patch_6\">\n    <path d=\"M 26.925 7.2 \nL 244.365 7.2 \n\" style=\"fill:none;stroke:#000000;stroke-linecap:square;stroke-linejoin:miter;stroke-width:0.8;\"/>\n   </g>\n  </g>\n </g>\n <defs>\n  <clipPath id=\"pf1889b74f7\">\n   <rect height=\"217.44\" width=\"217.44\" x=\"26.925\" y=\"7.2\"/>\n  </clipPath>\n </defs>\n</svg>\n",
      "image/png": "[encoded data removed]"
     },
     "metadata": {
      "needs_background": "light"
     }
    }
   ],
   "source": [
    "a = tf.reshape(test[0],[1,28,28,1])\n",
    "b = tf.reshape(test[1],[1,28,28,1])\n",
    "c = tf.reshape(test[2],[1,28,28,1])\n",
    "print(model.predict(a))\n",
    "print(model.predict(b))\n",
    "print(model.predict(c))\n",
    "a = tf.reshape(a,[28,28])\n",
    "b = tf.reshape(b,[28,28])\n",
    "c = tf.reshape(c,[28,28])\n",
    "plt.imshow(a,cmap=\"binary\")\n",
    "plt.imshow(b,cmap=\"binary\")\n",
    "plt.imshow(c,cmap=\"binary\")\n",
    "plt.show()"
   ]
  },
  {
   "cell_type": "code",
   "execution_count": 10,
   "metadata": {},
   "outputs": [],
   "source": [
    "test_labels = model.predict(test)"
   ]
  },
  {
   "cell_type": "markdown",
   "metadata": {},
   "source": [
    "# Saving The Predictions"
   ]
  },
  {
   "cell_type": "code",
   "execution_count": 11,
   "metadata": {},
   "outputs": [],
   "source": [
    "results = np.argmax(test_labels,axis=1)"
   ]
  },
  {
   "cell_type": "code",
   "execution_count": 12,
   "metadata": {},
   "outputs": [
    {
     "output_type": "execute_result",
     "data": {
      "text/plain": "array([2, 0, 9, ..., 3, 9, 2])"
     },
     "metadata": {},
     "execution_count": 12
    }
   ],
   "source": [
    "results"
   ]
  },
  {
   "cell_type": "code",
   "execution_count": 13,
   "metadata": {
    "tags": []
   },
   "outputs": [
    {
     "output_type": "stream",
     "name": "stdout",
     "text": "28000\n"
    }
   ],
   "source": [
    "results = pd.Series(results,name=\"Label\")\n",
    "print(len(results))"
   ]
  },
  {
   "cell_type": "code",
   "execution_count": 14,
   "metadata": {},
   "outputs": [],
   "source": [
    "submission = pd.concat([pd.Series(range(1,28001),name = \"ImageId\"),results],axis = 1)\n",
    "\n",
    "submission.to_csv(\"predictions.csv\",index=False)"
   ]
  },
  {
   "cell_type": "code",
   "execution_count": null,
   "metadata": {},
   "outputs": [],
   "source": []
  }
 ],
 "metadata": {
  "language_info": {
   "codemirror_mode": {
    "name": "ipython",
    "version": 3
   },
   "file_extension": ".py",
   "mimetype": "text/x-python",
   "name": "python",
   "nbconvert_exporter": "python",
   "pygments_lexer": "ipython3",
   "version": "3.8.3-final"
  },
  "orig_nbformat": 2,
  "kernelspec": {
   "name": "python38364bitcs231condac98c035d582048bda124cb6e3770de43",
   "display_name": "Python 3.8.3 64-bit ('cs231': conda)"
  }
 },
 "nbformat": 4,
 "nbformat_minor": 2
}